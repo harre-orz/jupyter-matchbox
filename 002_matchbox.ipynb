{
 "cells": [
  {
   "cell_type": "markdown",
   "metadata": {},
   "source": [
    "# matchbox の構築\n",
    "\n",
    "## 鍵交換\n",
    "\n",
    "maint ユーザを作成して適当にパスワードを設定する\n",
    "```\n",
    "# useradd maint\n",
    "# passwd\n",
    "# echo \"maint ALL=(ALL) NOPASSWD: ALL\" >> /etc/sudoers\n",
    "# chown maint:maint /home/maint\n",
    "# su - maint\n",
    "$ cp /etc/skel/.??* .\n",
    "$ exit\n",
    "```\n",
    "\n",
    "ssh でログインして、以下の鍵を登録する"
   ]
  },
  {
   "cell_type": "code",
   "execution_count": null,
   "metadata": {
    "scrolled": true
   },
   "outputs": [],
   "source": [
    "cat ~/.ssh/id_rsa.pub"
   ]
  },
  {
   "cell_type": "markdown",
   "metadata": {},
   "source": [
    "## Python をインストール\n",
    "\n",
    "ArchLinux に Python が入っていなかったので、raw モジュールでインストールする"
   ]
  },
  {
   "cell_type": "code",
   "execution_count": null,
   "metadata": {
    "scrolled": false
   },
   "outputs": [],
   "source": [
    "ansible matchbox -b -u maint -m raw -a \"pacman -Syu --noconfirm python\""
   ]
  },
  {
   "cell_type": "markdown",
   "metadata": {},
   "source": [
    "## Ansible の接続確認"
   ]
  },
  {
   "cell_type": "code",
   "execution_count": null,
   "metadata": {
    "scrolled": false
   },
   "outputs": [],
   "source": [
    "ansible matchbox -b -u maint -m ping"
   ]
  },
  {
   "cell_type": "markdown",
   "metadata": {},
   "source": [
    "## Ansible で設定投入"
   ]
  },
  {
   "cell_type": "code",
   "execution_count": null,
   "metadata": {
    "scrolled": false
   },
   "outputs": [],
   "source": [
    "ansible-playbook matchbox.yml"
   ]
  },
  {
   "cell_type": "markdown",
   "metadata": {},
   "source": [
    "## Matchbox の起動確認"
   ]
  },
  {
   "cell_type": "code",
   "execution_count": null,
   "metadata": {},
   "outputs": [],
   "source": [
    "ansible matchbox -u maint -a \"systemctl status matchbox\""
   ]
  },
  {
   "cell_type": "markdown",
   "metadata": {},
   "source": [
    "## クライアント認証鍵を取得"
   ]
  },
  {
   "cell_type": "code",
   "execution_count": null,
   "metadata": {},
   "outputs": [],
   "source": [
    "mkdir -p ~/.matchbox\n",
    "for file in ca.crt client.crt client.key; do\n",
    "  ansible matchbox -b -u maint -a \"cat ~/tls/$file\" | sed 1d > ~/.matchbox/$file\n",
    "  echo \"OK $file\"\n",
    "done"
   ]
  },
  {
   "cell_type": "markdown",
   "metadata": {},
   "source": [
    "## 鍵を削除\n",
    "\n",
    "server.key, client.keyを再作成するとき以外は実行しないでください"
   ]
  },
  {
   "cell_type": "code",
   "execution_count": null,
   "metadata": {},
   "outputs": [],
   "source": [
    "#ansible matchbox -b -u maint -m file -a \"path=~/tls state=absent\"\n",
    "#ansible matchbox -b -u maint -m systemd -a \"name=matchbox state=stopped enabled=no\""
   ]
  },
  {
   "cell_type": "markdown",
   "metadata": {},
   "source": [
    "## http 接続確認"
   ]
  },
  {
   "cell_type": "code",
   "execution_count": null,
   "metadata": {},
   "outputs": [],
   "source": [
    "ansible matchbox --list-hosts | sed 1d | while read host; do\n",
    "    curl http://$host:8080\n",
    "done"
   ]
  },
  {
   "cell_type": "code",
   "execution_count": null,
   "metadata": {},
   "outputs": [],
   "source": [
    "cat /etc/hosts"
   ]
  },
  {
   "cell_type": "markdown",
   "metadata": {},
   "source": [
    "## rpc 接続確認"
   ]
  },
  {
   "cell_type": "code",
   "execution_count": null,
   "metadata": {
    "scrolled": true
   },
   "outputs": [],
   "source": [
    "ansible matchbox --list-hosts | sed 1d | while read host; do\n",
    "  openssl s_client -connect $host:8081 -CAfile ~/.matchbox/ca.crt -cert ~/.matchbox/client.crt -key ~/.matchbox/client.key\n",
    "done"
   ]
  },
  {
   "cell_type": "markdown",
   "metadata": {},
   "source": [
    "## CoreOS イメージ取得\n",
    "\n",
    "通信量が多いので、実行は極力控えること"
   ]
  },
  {
   "cell_type": "code",
   "execution_count": null,
   "metadata": {},
   "outputs": [],
   "source": [
    "ansible matchbox -b -u maint -m shell -a \"./get-coreos stable 1576.4.0 . chdir=/var/lib/matchbox/assets\""
   ]
  },
  {
   "cell_type": "markdown",
   "metadata": {},
   "source": [
    "## CoreOS 取得確認"
   ]
  },
  {
   "cell_type": "code",
   "execution_count": null,
   "metadata": {},
   "outputs": [],
   "source": [
    "ansible matchbox --list-hosts | sed 1d | while read host; do\n",
    "    curl http://$host:8080/assets/coreos/1576.4.0/\n",
    "done"
   ]
  }
 ],
 "metadata": {
  "kernelspec": {
   "display_name": "Bash",
   "language": "bash",
   "name": "bash"
  },
  "language_info": {
   "codemirror_mode": "shell",
   "file_extension": ".sh",
   "mimetype": "text/x-sh",
   "name": "bash"
  },
  "toc": {
   "base_numbering": 1,
   "nav_menu": {},
   "number_sections": true,
   "sideBar": true,
   "skip_h1_title": false,
   "title_cell": "Table of Contents",
   "title_sidebar": "Contents",
   "toc_cell": false,
   "toc_position": {},
   "toc_section_display": true,
   "toc_window_display": true
  }
 },
 "nbformat": 4,
 "nbformat_minor": 2
}
